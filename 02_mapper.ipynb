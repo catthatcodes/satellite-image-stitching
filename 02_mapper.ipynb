{
  "nbformat": 4,
  "nbformat_minor": 0,
  "metadata": {
    "colab": {
      "name": "02_mapper.ipynb",
      "provenance": [],
      "authorship_tag": "ABX9TyNySMY/W/lDBXftIvmM0cx/",
      "include_colab_link": true
    },
    "kernelspec": {
      "name": "python3",
      "display_name": "Python 3"
    }
  },
  "cells": [
    {
      "cell_type": "markdown",
      "metadata": {
        "id": "view-in-github",
        "colab_type": "text"
      },
      "source": [
        "<a href=\"https://colab.research.google.com/github/catthatcodes/satellite-image-stitching/blob/master/02_mapper.ipynb\" target=\"_parent\"><img src=\"https://colab.research.google.com/assets/colab-badge.svg\" alt=\"Open In Colab\"/></a>"
      ]
    },
    {
      "cell_type": "markdown",
      "metadata": {
        "id": "FvIkCXksl0rO",
        "colab_type": "text"
      },
      "source": [
        "# **Creating new spaces for images**"
      ]
    },
    {
      "cell_type": "markdown",
      "metadata": {
        "id": "xGfGbecog7z4",
        "colab_type": "text"
      },
      "source": [
        "The images are defined in a new space, so that all possible matching cases between the two images can be calculated. This is the first mapper function. "
      ]
    },
    {
      "cell_type": "markdown",
      "metadata": {
        "id": "IlnfmYOrg8pa",
        "colab_type": "text"
      },
      "source": [
        "Input: **Image1_Str <tab> Image2_Str** "
      ]
    },
    {
      "cell_type": "markdown",
      "metadata": {
        "id": "MOQRMuuWh1hG",
        "colab_type": "text"
      },
      "source": [
        "Output: **Image1_Str <tab> Image2_New_Space**"
      ]
    },
    {
      "cell_type": "markdown",
      "metadata": {
        "id": "L0kCkBuYhBFb",
        "colab_type": "text"
      },
      "source": [
        "For each image pair, the width and height of image1 is added around of the image2 as white pixels. Since image1 and image2 are 5X5 size images, thus the width of image1 (5 pixels) and height of image1 (5 pixels) is added to the width and height around image2, resulting in Image2_New_Space has a 13x13 size.  "
      ]
    },
    {
      "cell_type": "markdown",
      "metadata": {
        "id": "m8hT5xzkhDfv",
        "colab_type": "text"
      },
      "source": [
        "Image2_New_Space in a bitmap: "
      ]
    },
    {
      "cell_type": "code",
      "metadata": {
        "id": "9behgoP6hHC5",
        "colab_type": "code",
        "outputId": "a24a5f4e-0820-433e-cc33-8b98ae9da289",
        "colab": {
          "base_uri": "https://localhost:8080/",
          "height": 344
        }
      },
      "source": [
        "from IPython.display import Image\n",
        "Image('/content/image_2_new_space.png')"
      ],
      "execution_count": 0,
      "outputs": [
        {
          "output_type": "execute_result",
          "data": {
            "image/png": "[encoded data removed]",
            "text/plain": [
              "<IPython.core.display.Image object>"
            ]
          },
          "metadata": {
            "tags": []
          },
          "execution_count": 1
        }
      ]
    }
  ]
}